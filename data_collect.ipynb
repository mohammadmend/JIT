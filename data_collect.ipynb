{
 "cells": [
  {
   "cell_type": "code",
   "execution_count": 1,
   "metadata": {},
   "outputs": [],
   "source": [
    "import cv2 as cv\n",
    "import mediapipe as mp\n",
    "import csv \n",
    "import os"
   ]
  },
  {
   "cell_type": "code",
   "execution_count": 2,
   "metadata": {},
   "outputs": [],
   "source": [
    "mphand = mp.solutions.hands\n",
    "hands = mphand.Hands()\n",
    "mpdraw= mp.solutions.drawing_utils"
   ]
  },
  {
   "cell_type": "code",
   "execution_count": 16,
   "metadata": {},
   "outputs": [],
   "source": [
    "with open(\"C:/Users/moham/OneDrive/Documents/Desktop/JIT/letter_test.csv\", mode='a', newline='') as file:\n",
    "\n",
    "        writer = csv.writer(file)\n",
    "        writer.writerow(['gesture'] + [f'x{i}' for i in range(21)] + [f'y{i}' for i in range(21)] + [f'z{i}' for i in range(21)])\n",
    "        file.flush()\n"
   ]
  },
  {
   "cell_type": "code",
   "execution_count": 17,
   "metadata": {},
   "outputs": [],
   "source": [
    "def collectdata(image, gestures):\n",
    "    # Initialize Mediapipe once\n",
    "    \n",
    "    \n",
    "    # Open the CSV file in append mode\n",
    "    with open(\"C:/Users/moham/OneDrive/Documents/Desktop/JIT/letter_test.csv\", mode='a', newline='') as file:\n",
    "\n",
    "        writer = csv.writer(file)\n",
    "        #writer.writerow(['gesture'] + [f'x{i}' for i in range(21)] + [f'y{i}' for i in range(21)] + [f'z{i}' for i in range(21)])\n",
    "\n",
    "\n",
    "        frame_rgb = cv.cvtColor(image, cv.COLOR_BGR2RGB)\n",
    "        result = hands.process(frame_rgb)\n",
    "        \n",
    "        if result.multi_hand_landmarks:\n",
    "            for hand_index, hand_landmarks in enumerate(result.multi_hand_landmarks):\n",
    "                handedness = result.multi_handedness[hand_index].classification[0].label\n",
    "                mpdraw.draw_landmarks(image, hand_landmarks, mphand.HAND_CONNECTIONS)\n",
    "                \n",
    "                # Collect landmark data\n",
    "                land = []\n",
    "                for lm in hand_landmarks.landmark:\n",
    "                    land.extend([lm.x, lm.y, lm.z])\n",
    "                \n",
    "                # Write gesture and landmarks to CSV\n",
    "                writer.writerow([gestures] + land)\n",
    "                file.flush()\n",
    "\n",
    "\n",
    "        # Display the image\n",
    "        cv.imshow('feed', cv.flip(image, 1))\n",
    "        if cv.waitKey(1) == ord(\"q\"):\n",
    "            cv.destroyAllWindows()"
   ]
  },
  {
   "cell_type": "code",
   "execution_count": 18,
   "metadata": {},
   "outputs": [],
   "source": [
    "def opendata():\n",
    "    ogPath = \"C:/Users/moham/OneDrive/Documents/Desktop/JIT/ASL_Gestures/asl_alphabet_train\"\n",
    "    #print(ogPath)\n",
    "\n",
    "    # Loop through the directories in the path\n",
    "    for path in os.listdir(ogPath):\n",
    "        if path in [\"A\", \"B\", \"C\", \"D\", \"del\", \"E\", \"F\", \"G\", \"H\", \"I\", \"J\", \"K\", \"L\", \"M\", \"N\", \"nothing\", \"O\", \"P\", \"Q\", \"R\", \"S\", \"space\", \"T\", \"U\", \"V\", \"W\", \"X\", \"Y\", \"Z\"]:\n",
    "            print(path)\n",
    "\n",
    "            paths = os.path.join(ogPath, path)\n",
    "            \n",
    "           \n",
    "        # Process other gestures as-is\n",
    "            li=os.listdir(paths)\n",
    "            for i in range (600,700):\n",
    "            #for images in os.listdir(paths):\n",
    "                images=li[i]\n",
    "                imagepath = os.path.join(paths, images)\n",
    "                final = cv.imread(imagepath)\n",
    "                if final is not None:\n",
    "                    collectdata(final, path)\n",
    "                else:\n",
    "                    print(f\"Could not read image: {imagepath}\")"
   ]
  },
  {
   "cell_type": "code",
   "execution_count": 19,
   "metadata": {},
   "outputs": [
    {
     "name": "stdout",
     "output_type": "stream",
     "text": [
      "A\n",
      "B\n",
      "C\n",
      "D\n",
      "del\n",
      "E\n",
      "F\n",
      "G\n",
      "H\n",
      "I\n",
      "J\n",
      "K\n",
      "L\n",
      "M\n",
      "N\n",
      "nothing\n",
      "O\n",
      "P\n",
      "Q\n",
      "R\n",
      "S\n",
      "space\n",
      "T\n",
      "U\n",
      "V\n",
      "W\n",
      "X\n",
      "Y\n",
      "Z\n"
     ]
    },
    {
     "ename": "",
     "evalue": "",
     "output_type": "error",
     "traceback": [
      "\u001b[1;31mThe Kernel crashed while executing code in the current cell or a previous cell. \n",
      "\u001b[1;31mPlease review the code in the cell(s) to identify a possible cause of the failure. \n",
      "\u001b[1;31mClick <a href='https://aka.ms/vscodeJupyterKernelCrash'>here</a> for more info. \n",
      "\u001b[1;31mView Jupyter <a href='command:jupyter.viewOutput'>log</a> for further details."
     ]
    }
   ],
   "source": [
    "opendata()"
   ]
  }
 ],
 "metadata": {
  "kernelspec": {
   "display_name": "JIT",
   "language": "python",
   "name": "python3"
  },
  "language_info": {
   "codemirror_mode": {
    "name": "ipython",
    "version": 3
   },
   "file_extension": ".py",
   "mimetype": "text/x-python",
   "name": "python",
   "nbconvert_exporter": "python",
   "pygments_lexer": "ipython3",
   "version": "3.11.10"
  }
 },
 "nbformat": 4,
 "nbformat_minor": 2
}
