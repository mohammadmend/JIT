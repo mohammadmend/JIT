{
 "cells": [
  {
   "cell_type": "code",
   "execution_count": 1,
   "metadata": {},
   "outputs": [],
   "source": [
    "import pandas as pd\n",
    "import numpy as np\n",
    "import os\n",
    "import torch\n",
    "import torch.nn.functional as F \n",
    "from torch import nn\n",
    "from torch.utils.data import DataLoader\n",
    "from torchvision import datasets, transforms"
   ]
  },
  {
   "cell_type": "code",
   "execution_count": 2,
   "metadata": {},
   "outputs": [
    {
     "name": "stdout",
     "output_type": "stream",
     "text": [
      "64\n"
     ]
    }
   ],
   "source": [
    "train = pd.read_csv(\"C:/Users/moham/OneDrive/Documents/Desktop/JIT/letter_train.csv\")\n",
    "train.replace(r'^\\s*$', np.nan, regex=True, inplace=True)\n",
    "train.dropna(inplace=True)\n",
    "\n",
    "\n",
    "test = pd.read_csv(\"C:/Users/moham/OneDrive/Documents/Desktop/JIT/letter_test.csv\")\n",
    "test.replace(r'^\\s*$', np.nan, regex=True, inplace=True)\n",
    "test.dropna(inplace=True)\n",
    "print(len(test.columns))"
   ]
  },
  {
   "cell_type": "code",
   "execution_count": 3,
   "metadata": {},
   "outputs": [
    {
     "name": "stdout",
     "output_type": "stream",
     "text": [
      "cpu\n"
     ]
    }
   ],
   "source": [
    "device = (\n",
    "    \"cpu\"\n",
    ")\n",
    "print (device)\n",
    "class NeuralNetwork(nn.Module):\n",
    "    def __init__(self):\n",
    "        super().__init__()\n",
    "        self.layers=nn.Sequential(\n",
    "            nn.Linear(len(train.columns)-2,1024),\n",
    "            nn.ReLU(),\n",
    "            nn.Linear(1024,512),\n",
    "            nn.ReLU(),\n",
    "            nn.Linear(512,364),\n",
    "            nn.ReLU(),\n",
    "            nn.Linear(364,128),\n",
    "            nn.ReLU(),\n",
    "            nn.Linear(128,64),\n",
    "            nn.Dropout(0.2),\n",
    "            nn.ReLU(),\n",
    "            nn.Linear(64,29),\n",
    "            # nn.ReLU(),\n",
    "            # nn.Linear(32,29)\n",
    "        )\n",
    "    def forward(self,x):\n",
    "        logits=self.layers(x)\n",
    "\n",
    "        return logits"
   ]
  },
  {
   "cell_type": "code",
   "execution_count": 4,
   "metadata": {},
   "outputs": [],
   "source": [
    "model=NeuralNetwork()"
   ]
  },
  {
   "cell_type": "code",
   "execution_count": 5,
   "metadata": {},
   "outputs": [],
   "source": [
    "import torch.optim as optim\n",
    "valid_loader= torch.utils.data.DataLoader(train, batch_size=4, shuffle=True)\n",
    "classes=(\"call\",\"stop\",\"left\",\"right\",\"dislike\",\"like\")"
   ]
  },
  {
   "cell_type": "code",
   "execution_count": null,
   "metadata": {},
   "outputs": [],
   "source": [
    "loss_fn=torch.nn.CrossEntropyLoss()\n",
    "opt=optim.Adam(model.parameters(), lr=1e-3)"
   ]
  },
  {
   "cell_type": "code",
   "execution_count": null,
   "metadata": {},
   "outputs": [],
   "source": [
    "from torch.utils.data import Dataset\n",
    "\n",
    "class GestureDataset(Dataset):\n",
    "    def __init__(self, dataframe):\n",
    "        self.data = dataframe\n",
    "        # Map 'gesture' and 'Hand_Id' to numerical values\n",
    "        self.label_mapping = {gesture: idx for idx, gesture in enumerate(self.data['gesture'].unique())}\n",
    "        self.hand_mapping = {'Left': 0, 'Right': 1}  # Map Hand_Id to numerical values\n",
    "        self.data['gesture'] = self.data['gesture'].map(self.label_mapping)\n",
    "        self.data['Hand_Id'] = self.data['Hand_Id'].map(self.hand_mapping)\n",
    "    \n",
    "    def __len__(self):\n",
    "        return len(self.data)\n",
    "    \n",
    "    def __getitem__(self, idx):\n",
    "        # Include 'Hand_Id' as part of the input features\n",
    "        hand_id = self.data.iloc[idx, 1]  # Get the 'Hand_Id' value\n",
    "        features = self.data.iloc[idx, 2:].values.astype(float)  # All columns except 'gesture'\n",
    "        features = torch.tensor(features, dtype=torch.float32)\n",
    "        #features = torch.cat((torch.tensor([hand_id], dtype=torch.float32), features))  # Include 'Hand_Id'\n",
    "\n",
    "        # Labels (gesture)\n",
    "        label = torch.tensor(self.data.iloc[idx, 0], dtype=torch.long)  # 'gesture' column\n",
    "                \n",
    "        return features, label\n",
    "tr=GestureDataset(train)\n",
    "train_loder= torch.utils.data.DataLoader(tr, batch_size=40, shuffle=True)\n",
    "test=GestureDataset(test)\n",
    "test_loader=torch.utils.data.DataLoader(test)\n"
   ]
  },
  {
   "cell_type": "code",
   "execution_count": null,
   "metadata": {},
   "outputs": [],
   "source": [
    "def acc(y_pred,y):\n",
    "    _,pred=torch.max(y_pred,1)\n",
    "    yes=(pred==y).sum().item()\n",
    "    return yes/y.size(0)"
   ]
  },
  {
   "cell_type": "code",
   "execution_count": null,
   "metadata": {},
   "outputs": [],
   "source": [
    "from sklearn.preprocessing import StandardScaler\n",
    "for epoch in range (70):\n",
    "    ls=0\n",
    "    model.train()\n",
    "    for batch,(X,y) in enumerate(train_loder):\n",
    "        X,y=X.to(device),y.to(device)\n",
    "\n",
    "        mean=torch.nanmean(X)   \n",
    "        X=torch.nan_to_num(X,nan=mean)\n",
    "        #print(X)\n",
    "        # print(f\"Max value in X: {X.max()}\")\n",
    "        # print(f\"Min value in X: {X.min()}\")\n",
    "        # print(f\"Max value in y: {y.max()}\")\n",
    "        # print(f\"Min value in y: {y.min()}\")\n",
    "       # X = (X - X.mean()) / X.std()\n",
    "\n",
    "        scaler = StandardScaler()\n",
    "        X_scaled = scaler.fit_transform(X)\n",
    "        log=model(X)\n",
    "        print(\"NaNs in model output:\", torch.isnan(log).sum())\n",
    "        #print(y)\n",
    "        loss=loss_fn(log,y)\n",
    "        print(\"NaNs in loss:\", torch.isnan(loss).sum())\n",
    "        opt.zero_grad()\n",
    "        loss.backward()\n",
    "        torch.nn.utils.clip_grad_norm_(model.parameters(), max_norm=1.0)\n",
    "        print(\"batch number\",batch)\n",
    "        print(acc(log,y))\n",
    "        print(\"acc\",loss.item())\n",
    "        opt.step()\n",
    "        ls+=loss.item()\n"
   ]
  },
  {
   "cell_type": "code",
   "execution_count": null,
   "metadata": {},
   "outputs": [],
   "source": [
    "model.eval()"
   ]
  },
  {
   "cell_type": "code",
   "execution_count": null,
   "metadata": {},
   "outputs": [],
   "source": [
    "sum=0\n",
    "i=0\n",
    "with torch.no_grad():\n",
    "    for _,(x,y) in enumerate(test_loader):\n",
    "        x,y=x.to(device),y.to(device)\n",
    "        y_pred=model(x)\n",
    "        accuracy=acc(y_pred,y)\n",
    "        print(\"loss\",loss_fn(y_pred,y))\n",
    "        sum+=accuracy\n",
    "        i+=1\n",
    "        print(accuracy)\n",
    "print(\"tot\",(sum/i))"
   ]
  },
  {
   "cell_type": "code",
   "execution_count": null,
   "metadata": {},
   "outputs": [],
   "source": [
    "#saving model\n",
    "torch.save(model,'model_f.pt')\n"
   ]
  }
 ],
 "metadata": {
  "kernelspec": {
   "display_name": "JIT",
   "language": "python",
   "name": "python3"
  },
  "language_info": {
   "codemirror_mode": {
    "name": "ipython",
    "version": 3
   },
   "file_extension": ".py",
   "mimetype": "text/x-python",
   "name": "python",
   "nbconvert_exporter": "python",
   "pygments_lexer": "ipython3",
   "version": "3.11.10"
  }
 },
 "nbformat": 4,
 "nbformat_minor": 2
}
