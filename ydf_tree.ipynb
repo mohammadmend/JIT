{
 "cells": [
  {
   "cell_type": "code",
   "execution_count": 6,
   "metadata": {},
   "outputs": [],
   "source": [
    "import ydf\n",
    "import csv\n",
    "import numpy as np\n",
    "import pandas as pd\n"
   ]
  },
  {
   "cell_type": "code",
   "execution_count": 7,
   "metadata": {},
   "outputs": [
    {
     "name": "stdout",
     "output_type": "stream",
     "text": [
      "Train model on 11474 examples\n",
      "Model trained in 0:24:51.282817\n",
      "Accuracy: 0.9958041958041958\n"
     ]
    }
   ],
   "source": [
    "train = pd.read_csv(\"C:/Users/moham/OneDrive/Documents/Desktop/JIT/letter_train.csv\")\n",
    "train.replace(r'^\\s*$', np.nan, regex=True, inplace=True)\n",
    "train.dropna(inplace=True)\n",
    "train = train.astype({col: 'float64' for col in train.columns if col.startswith(('x', 'y', 'z'))})\n",
    "\n",
    "tuner=ydf.RandomSearchTuner(num_trials=50)\n",
    "tuner.choice('max_depth',[10,16,18,20,22,30])\n",
    "tuner.choice('num_trees',[150,300,450,600,700])\n",
    "tuner.choice('categorical_algorithm',['CART','ONE_HOT','RANDOM'])\n",
    "model = ydf.RandomForestLearner(label='gesture',tuner=tuner).train(train)\n",
    "test = pd.read_csv(\"C:/Users/moham/OneDrive/Documents/Desktop/JIT/letter_test.csv\")\n",
    "test.replace(r'^\\s*$', np.nan, regex=True, inplace=True)\n",
    "test.dropna(inplace=True)\n",
    "test = test.astype({col: 'float64' for col in test.columns if col.startswith(('x', 'y', 'z'))})\n",
    "\n",
    "# Evaluate the model\n",
    "evaluation = model.evaluate(test)\n",
    "print(f\"Accuracy: {evaluation.accuracy}\")\n",
    "\n",
    "\n"
   ]
  },
  {
   "cell_type": "code",
   "execution_count": 11,
   "metadata": {},
   "outputs": [
    {
     "name": "stdout",
     "output_type": "stream",
     "text": [
      "      gesture        x0        x1            x2        x3        x4        x5  \\\n",
      "0           A  0.752823  0.373358 -4.351319e-07  0.840682  0.315064 -0.017487   \n",
      "1           A  0.749799  0.389664 -5.321739e-07  0.842005  0.328627 -0.012226   \n",
      "2           A  0.754766  0.401334 -4.530839e-07  0.844320  0.345357 -0.017787   \n",
      "3           A  0.769240  0.422996 -4.014602e-07  0.856139  0.366092 -0.018306   \n",
      "4           A  0.775203  0.439014 -3.919496e-07  0.867564  0.380060 -0.011609   \n",
      "...       ...       ...       ...           ...       ...       ...       ...   \n",
      "11469       Z  0.594302  0.906174  1.606369e-07  0.720756  0.894178 -0.034722   \n",
      "11470       Z  0.592576  0.901998  1.278450e-07  0.722727  0.890245 -0.032892   \n",
      "11471       Z  0.587568  0.892351  1.249735e-07  0.717597  0.887137 -0.034021   \n",
      "11472       Z  0.586861  0.894335  1.218530e-07  0.720712  0.885324 -0.030634   \n",
      "11473       Z  0.583763  0.890484  1.554392e-07  0.719175  0.879323 -0.034905   \n",
      "\n",
      "             x6        x7        x8  ...       z11       z12       z13  \\\n",
      "0      0.895263  0.235904 -0.020836  ... -0.012628  0.693979  0.165705   \n",
      "1      0.894808  0.252766 -0.013331  ... -0.009322  0.695285  0.177125   \n",
      "2      0.901676  0.266540 -0.020207  ... -0.007375  0.703929  0.188687   \n",
      "3      0.910973  0.281576 -0.021523  ... -0.011983  0.705819  0.201553   \n",
      "4      0.921898  0.300867 -0.011069  ... -0.008911  0.726265  0.218610   \n",
      "...         ...       ...       ...  ...       ...       ...       ...   \n",
      "11469  0.835709  0.834138 -0.050246  ... -0.024335  0.705019  0.608442   \n",
      "11470  0.840114  0.829402 -0.047667  ... -0.025410  0.709261  0.602365   \n",
      "11471  0.836185  0.827295 -0.047644  ... -0.027608  0.709409  0.592305   \n",
      "11472  0.836220  0.824128 -0.044090  ... -0.031689  0.703991  0.589883   \n",
      "11473  0.834092  0.821013 -0.050080  ... -0.025761  0.700390  0.588518   \n",
      "\n",
      "            z14       z15       z16       z17       z18       z19       z20  \n",
      "0     -0.048182  0.710418  0.220471 -0.042087  0.717044  0.269370 -0.026001  \n",
      "1     -0.038746  0.711941  0.230007 -0.030610  0.718896  0.279309 -0.014276  \n",
      "2     -0.039472  0.718742  0.245413 -0.032439  0.726482  0.295354 -0.016118  \n",
      "3     -0.043019  0.723938  0.256046 -0.035374  0.732768  0.308078 -0.018747  \n",
      "4     -0.036537  0.740347  0.270459 -0.027987  0.743678  0.319981 -0.011353  \n",
      "...         ...       ...       ...       ...       ...       ...       ...  \n",
      "11469 -0.086188  0.708979  0.688675 -0.084583  0.689652  0.751841 -0.067031  \n",
      "11470 -0.088362  0.713679  0.682160 -0.087624  0.691764  0.747748 -0.070890  \n",
      "11471 -0.094798  0.713589  0.674735 -0.096545  0.693192  0.744609 -0.080709  \n",
      "11472 -0.092560  0.706967  0.669496 -0.090496  0.685686  0.733243 -0.073479  \n",
      "11473 -0.091089  0.701692  0.670773 -0.090106  0.681256  0.737626 -0.071927  \n",
      "\n",
      "[11474 rows x 64 columns]\n"
     ]
    }
   ],
   "source": [
    "print(train)"
   ]
  },
  {
   "cell_type": "code",
   "execution_count": 6,
   "metadata": {},
   "outputs": [
    {
     "ename": "TypeError",
     "evalue": "'method' object is not subscriptable",
     "output_type": "error",
     "traceback": [
      "\u001b[1;31m---------------------------------------------------------------------------\u001b[0m",
      "\u001b[1;31mTypeError\u001b[0m                                 Traceback (most recent call last)",
      "Cell \u001b[1;32mIn[6], line 5\u001b[0m\n\u001b[0;32m      3\u001b[0m test\u001b[38;5;241m.\u001b[39mreplace(\u001b[38;5;124mr\u001b[39m\u001b[38;5;124m'\u001b[39m\u001b[38;5;124m^\u001b[39m\u001b[38;5;124m\\\u001b[39m\u001b[38;5;124ms*$\u001b[39m\u001b[38;5;124m'\u001b[39m, np\u001b[38;5;241m.\u001b[39mnan, regex\u001b[38;5;241m=\u001b[39m\u001b[38;5;28;01mTrue\u001b[39;00m, inplace\u001b[38;5;241m=\u001b[39m\u001b[38;5;28;01mTrue\u001b[39;00m)\n\u001b[0;32m      4\u001b[0m test\u001b[38;5;241m.\u001b[39mdropna(inplace\u001b[38;5;241m=\u001b[39m\u001b[38;5;28;01mTrue\u001b[39;00m)\n\u001b[1;32m----> 5\u001b[0m \u001b[43mtest\u001b[49m\u001b[38;5;241;43m.\u001b[39;49m\u001b[43mdrop\u001b[49m\u001b[43m[\u001b[49m\u001b[38;5;124;43m'\u001b[39;49m\u001b[38;5;124;43mgestures\u001b[39;49m\u001b[38;5;124;43m'\u001b[39;49m\u001b[43m]\u001b[49m\n",
      "\u001b[1;31mTypeError\u001b[0m: 'method' object is not subscriptable"
     ]
    }
   ],
   "source": [
    "# # Predict\n",
    "# test = pd.read_csv(\"C:/Users/moham/OneDrive/Documents/Desktop/JIT/letter_train.csv\")\n",
    "# test.replace(r'^\\s*$', np.nan, regex=True, inplace=True)\n",
    "# test.dropna(inplace=True)\n",
    "# test.drop['gestures']"
   ]
  },
  {
   "cell_type": "code",
   "execution_count": 9,
   "metadata": {},
   "outputs": [],
   "source": [
    "pred=model.predict(test)\n",
    "# bruh=pd.read_excel(\"C:/Users/amend/Desktop/hand_Data_train_f.xlsx\")"
   ]
  },
  {
   "cell_type": "code",
   "execution_count": 8,
   "metadata": {},
   "outputs": [
    {
     "data": {
      "text/plain": [
       "array([0., 0., 0., ..., 0., 0., 0.], dtype=float32)"
      ]
     },
     "execution_count": 8,
     "metadata": {},
     "output_type": "execute_result"
    }
   ],
   "source": []
  },
  {
   "cell_type": "code",
   "execution_count": 12,
   "metadata": {},
   "outputs": [],
   "source": [
    "model.save(\"C:/Users/moham/OneDrive/Documents/Desktop/JIT/model_tree\")"
   ]
  }
 ],
 "metadata": {
  "kernelspec": {
   "display_name": "JIT",
   "language": "python",
   "name": "python3"
  },
  "language_info": {
   "codemirror_mode": {
    "name": "ipython",
    "version": 3
   },
   "file_extension": ".py",
   "mimetype": "text/x-python",
   "name": "python",
   "nbconvert_exporter": "python",
   "pygments_lexer": "ipython3",
   "version": "3.11.10"
  }
 },
 "nbformat": 4,
 "nbformat_minor": 2
}
